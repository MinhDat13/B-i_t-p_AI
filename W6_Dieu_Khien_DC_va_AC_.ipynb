{
  "nbformat": 4,
  "nbformat_minor": 0,
  "metadata": {
    "colab": {
      "provenance": [],
      "authorship_tag": "ABX9TyPlxZR5CrqR/cTvbGMYbH1n",
      "include_colab_link": true
    },
    "kernelspec": {
      "name": "python3",
      "display_name": "Python 3"
    },
    "language_info": {
      "name": "python"
    }
  },
  "cells": [
    {
      "cell_type": "markdown",
      "metadata": {
        "id": "view-in-github",
        "colab_type": "text"
      },
      "source": [
        "<a href=\"https://colab.research.google.com/github/MinhDat13/Bai_tap_AI/blob/main/W6_Dieu_Khien_DC_va_AC_.ipynb\" target=\"_parent\"><img src=\"https://colab.research.google.com/assets/colab-badge.svg\" alt=\"Open In Colab\"/></a>"
      ]
    },
    {
      "cell_type": "code",
      "execution_count": 1,
      "metadata": {
        "id": "ZTLREwpiRAvH",
        "colab": {
          "base_uri": "https://localhost:8080/"
        },
        "outputId": "9d8fdb63-7947-4f8b-c8ab-f53d4c31391a"
      },
      "outputs": [
        {
          "output_type": "stream",
          "name": "stdout",
          "text": [
            "Looking in indexes: https://pypi.org/simple, https://us-python.pkg.dev/colab-wheels/public/simple/\n",
            "Collecting scikit-fuzzy\n",
            "  Downloading scikit-fuzzy-0.4.2.tar.gz (993 kB)\n",
            "\u001b[2K     \u001b[90m━━━━━━━━━━━━━━━━━━━━━━━━━━━━━━━━━━━━━━\u001b[0m \u001b[32m994.0/994.0 KB\u001b[0m \u001b[31m15.6 MB/s\u001b[0m eta \u001b[36m0:00:00\u001b[0m\n",
            "\u001b[?25h  Preparing metadata (setup.py) ... \u001b[?25l\u001b[?25hdone\n",
            "Requirement already satisfied: numpy>=1.6.0 in /usr/local/lib/python3.9/dist-packages (from scikit-fuzzy) (1.22.4)\n",
            "Requirement already satisfied: scipy>=0.9.0 in /usr/local/lib/python3.9/dist-packages (from scikit-fuzzy) (1.10.1)\n",
            "Requirement already satisfied: networkx>=1.9.0 in /usr/local/lib/python3.9/dist-packages (from scikit-fuzzy) (3.0)\n",
            "Building wheels for collected packages: scikit-fuzzy\n",
            "  Building wheel for scikit-fuzzy (setup.py) ... \u001b[?25l\u001b[?25hdone\n",
            "  Created wheel for scikit-fuzzy: filename=scikit_fuzzy-0.4.2-py3-none-any.whl size=894088 sha256=8f57b9bb356529aea98e80461293dd2297b3fd1c44b197c2caeffcf38d03e965\n",
            "  Stored in directory: /root/.cache/pip/wheels/32/2c/a1/a90a7d7dd8448ec029f298a61f3490275e99b17aa348be675c\n",
            "Successfully built scikit-fuzzy\n",
            "Installing collected packages: scikit-fuzzy\n",
            "Successfully installed scikit-fuzzy-0.4.2\n"
          ]
        }
      ],
      "source": [
        "pip install scikit-fuzzy"
      ]
    },
    {
      "cell_type": "code",
      "source": [
        "import numpy as np\n",
        "import skfuzzy as fuzz\n",
        "from skfuzzy import control as ctrl\n",
        "\n",
        "set_point = ctrl.Antecedent(np.arange(18,28,1),'set_point')\n",
        "val_sensor = ctrl.Antecedent(np.arange(0,41,1),'val_sensor')\n",
        "pwm = ctrl.Consequent(np.arange(0,256,1),'pwm')\n",
        "\n",
        "set_point['low'] = fuzz.trimf(set_point.universe,[18,18,21])\n",
        "set_point['average'] = fuzz.trimf(set_point.universe,[20,23,25])\n",
        "set_point['high'] = fuzz.trimf(set_point.universe,[23,27,27])\n",
        "\n",
        "val_sensor['low'] = fuzz.trimf(val_sensor.universe,[0,10,20])\n",
        "val_sensor['average'] = fuzz.trimf(val_sensor.universe,[10,20,30])\n",
        "val_sensor['high'] = fuzz.trimf(val_sensor.universe,[20,30,40])\n",
        "\n",
        "pwm['vlow'] = fuzz.trimf(pwm.universe,[0,0,130])\n",
        "pwm['low'] = fuzz.trimf(pwm.universe,[0,0,195])\n",
        "pwm['average'] = fuzz.trimf(pwm.universe,[65,195,255])\n",
        "pwm['high'] = fuzz.trimf(pwm.universe,[195,255,255])\n",
        "\n",
        "#set_point.view()\n",
        "#val_sensor.view()\n",
        "pwm.view()\n",
        "\n",
        "rule1 = ctrl.Rule(set_point['low'] & val_sensor['low'], pwm['vlow'])\n",
        "rule2 = ctrl.Rule(set_point['low'] & val_sensor['average'], pwm['average'])\n",
        "rule3 = ctrl.Rule(set_point['low'] & val_sensor['high'], pwm['high'])\n",
        "rule4 = ctrl.Rule(set_point['average'] & val_sensor['low'], pwm['low'])\n",
        "rule5 = ctrl.Rule(set_point['average'] & val_sensor['average'], pwm['average'])\n",
        "rule6 = ctrl.Rule(set_point['average'] & val_sensor['high'], pwm['low'])\n",
        "rule7 = ctrl.Rule(set_point['high'] & val_sensor['low'], pwm['high'])\n",
        "rule8 = ctrl.Rule(set_point['high'] & val_sensor['average'], pwm['average'])\n",
        "rule9 = ctrl.Rule(set_point['high'] & val_sensor['high'], pwm['vlow'])\n",
        "\n",
        "tipping_ctrl = ctrl.ControlSystem([rule1, rule2, rule3, rule4, rule5, rule6, rule7, rule8, rule9])\n",
        "tipping = ctrl.ControlSystemSimulation(tipping_ctrl)\n",
        "tipping.input['set_point'] = 26\n",
        "tipping.input['val_sensor'] = 20\n",
        "tipping.compute()\n",
        "print(tipping.output['pwm'])\n",
        "pwm.view(sim=tipping)\n"
      ],
      "metadata": {
        "id": "PNKvmX5kRstk"
      },
      "execution_count": null,
      "outputs": []
    },
    {
      "cell_type": "code",
      "source": [
        "from networkx.algorithms.flow.utils import Level\n",
        "# ĐIỀU KHIỂN MOBILE ROBOT\n",
        "\n",
        "import numpy as np\n",
        "import skfuzzy as fuzz\n",
        "from skfuzzy import control as ctrl\n",
        "\n",
        "L = ctrl.Antecedent(np.arange(0,151,1),'L')\n",
        "C = ctrl.Antecedent(np.arange(0,151,1),'C')\n",
        "R = ctrl.Antecedent(np.arange(0,151,1),'R')\n",
        "LC = ctrl.Consequent(np.arange(0,90,1),'LC')\n",
        "RC = ctrl.Consequent(np.arange(-90,0,1),'RC')\n",
        "pwm1 = ctrl.Consequent(np.arange(0,256,1),'pwm1')\n",
        "pwm2 = ctrl.Consequent(np.arange(0,256,1),'pwm2')\n",
        "\n",
        "\n",
        "L['N'] = fuzz.trimf(L.universe,[0,0,75])\n",
        "L['M'] = fuzz.trimf(L.universe,[0,75,150])\n",
        "L['F'] = fuzz.trimf(L.universe,[75,150,150])\n",
        "\n",
        "C['N'] = fuzz.trimf(C.universe,[0,0,75])\n",
        "C['M'] = fuzz.trimf(C.universe,[0,75,150])\n",
        "C['F'] = fuzz.trimf(C.universe,[75,150,150])\n",
        "\n",
        "R['N'] = fuzz.trimf(R.universe,[0,0,75])\n",
        "R['M'] = fuzz.trimf(R.universe,[0,75,150])\n",
        "R['F'] = fuzz.trimf(R.universe,[75,150,150])\n",
        "\n",
        "LC['S'] = fuzz.trimf(LC.universe,[0,0,45])\n",
        "LC['N'] = fuzz.trimf(LC.universe,[0,45,90])\n",
        "LC['B'] = fuzz.trimf(LC.universe,[45,90,90])\n",
        "\n",
        "RC['B'] = fuzz.trimf(RC.universe,[-90,-90,-45])\n",
        "RC['N'] = fuzz.trimf(RC.universe,[-90,-45,0])\n",
        "RC['S'] = fuzz.trimf(RC.universe,[-45,0,0])\n",
        "\n",
        "pwm1['vlow'] = fuzz.trimf(pwm.universe,[0,0,130])\n",
        "pwm1['low'] = fuzz.trimf(pwm.universe,[0,0,195])\n",
        "pwm1['average'] = fuzz.trimf(pwm.universe,[65,195,255])\n",
        "pwm1['high'] = fuzz.trimf(pwm.universe,[195,255,255])\n",
        "\n",
        "pwm2['vlow'] = fuzz.trimf(pwm.universe,[0,0,130])\n",
        "pwm2['low'] = fuzz.trimf(pwm.universe,[0,0,195])\n",
        "pwm2['average'] = fuzz.trimf(pwm.universe,[65,195,255])\n",
        "pwm2['high'] = fuzz.trimf(pwm.universe,[195,255,255])\n",
        "\n",
        "RC.view()\n",
        "\n",
        "rule1 = ctrl.Rule(L['N']&C['N'],LC['S'])\n",
        "rule2 = ctrl.Rule(L['N']&C['M'],LC['N'])\n",
        "rule3 = ctrl.Rule(L['N']&C['F'],LC['B'])\n",
        "rule4 = ctrl.Rule(L['M']&C['N'],LC['S'])\n",
        "rule5 = ctrl.Rule(L['M']&C['M'],LC['N'])\n",
        "rule6 = ctrl.Rule(L['M']&C['F'],LC['N'])\n",
        "rule7 = ctrl.Rule(L['F']&C['N'],LC['S'])\n",
        "rule8 = ctrl.Rule(L['F']&C['M'],LC['N'])\n",
        "rule9 = ctrl.Rule(L['F']&C['F'],LC['N'])\n",
        "\n",
        "rule10 = ctrl.Rule(R['N']&C['N'],RC['B'])\n",
        "rule11 = ctrl.Rule(R['N']&C['M'],RC['N'])\n",
        "rule12 = ctrl.Rule(R['N']&C['F'],RC['S'])\n",
        "rule13 = ctrl.Rule(R['M']&C['N'],RC['B'])\n",
        "rule14 = ctrl.Rule(R['M']&C['M'],RC['N'])\n",
        "rule15 = ctrl.Rule(R['M']&C['F'],RC['N'])\n",
        "rule16 = ctrl.Rule(R['F']&C['N'],RC['B'])\n",
        "rule17 = ctrl.Rule(R['F']&C['M'],RC['N'])\n",
        "rule18 = ctrl.Rule(R['F']&C['F'],RC['N'])\n",
        "\n",
        "rule19 = ctrl.Rule(LC['S']&RC['S'],[pwm1['vlow'],pwm2['high']])\n",
        "rule20 = ctrl.Rule(LC['S']&RC['N'],[pwm1['average'],pwm2['low']])\n",
        "rule21 = ctrl.Rule(LC['S']&RC['B'],[pwm1['high'],pwm2['vlow']])\n",
        "rule22 = ctrl.Rule(LC['N']&RC['S'],[pwm1['vlow'],pwm2['high']])\n",
        "rule23 = ctrl.Rule(LC['N']&RC['N'],[pwm1['vlow'],pwm2['vlow']])\n",
        "rule24 = ctrl.Rule(LC['N']&RC['B'],[pwm1['average'],pwm2['low']])\n",
        "rule25 = ctrl.Rule(LC['B']&RC['S'],[pwm1['vlow'],pwm2['high']])\n",
        "rule26 = ctrl.Rule(LC['B']&RC['N'],[pwm1['low'],pwm2['average']])\n",
        "rule27 = ctrl.Rule(LC['B']&RC['B'],[pwm1['high'],pwm2['high']])"
      ],
      "metadata": {
        "colab": {
          "base_uri": "https://localhost:8080/",
          "height": 281
        },
        "id": "0eUdPgerfOQR",
        "outputId": "bb065230-e907-41d3-c103-b2ad8c323f24"
      },
      "execution_count": 28,
      "outputs": [
        {
          "output_type": "display_data",
          "data": {
            "text/plain": [
              "<Figure size 432x288 with 1 Axes>"
            ],
            "image/png": "[encoded data removed]"
          },
          "metadata": {
            "needs_background": "light"
          }
        }
      ]
    }
  ]
}