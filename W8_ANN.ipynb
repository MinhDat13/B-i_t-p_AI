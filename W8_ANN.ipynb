{
  "nbformat": 4,
  "nbformat_minor": 0,
  "metadata": {
    "colab": {
      "provenance": [],
      "authorship_tag": "ABX9TyO2jBd4tTT/xvPcwLEiRwfH",
      "include_colab_link": true
    },
    "kernelspec": {
      "name": "python3",
      "display_name": "Python 3"
    },
    "language_info": {
      "name": "python"
    }
  },
  "cells": [
    {
      "cell_type": "markdown",
      "metadata": {
        "id": "view-in-github",
        "colab_type": "text"
      },
      "source": [
        "<a href=\"https://colab.research.google.com/github/MinhDat13/Bai_tap_AI/blob/main/W8_ANN.ipynb\" target=\"_parent\"><img src=\"https://colab.research.google.com/assets/colab-badge.svg\" alt=\"Open In Colab\"/></a>"
      ]
    },
    {
      "cell_type": "code",
      "source": [
        "import pandas as pd\n",
        "data=pd.read_csv('diabetes.csv')\n",
        "data.shape\n",
        "data.head()\n",
        "data1=data.drop(['Outcome'],axis=1)"
      ],
      "metadata": {
        "id": "KbWM5VyFdDZy"
      },
      "execution_count": 9,
      "outputs": []
    },
    {
      "cell_type": "code",
      "source": [
        "from sklearn.linear_model import Perceptron\n",
        "from sklearn.model_selection import train_test_split\n",
        "from sklearn.metrics import accuracy_score\n",
        "from sklearn.preprocessing import StandardScaler\n",
        "\n",
        "X=data1\n",
        "y=data['Outcome']\n",
        "X_train, X_test,y_train,y_test=train_test_split(X,y,test_size=0.3)\n",
        "sc=StandardScaler()\n",
        "sc.fit(X_train)\n",
        "X_train_std=sc.transform(X_train)\n",
        "X_test_std=sc.transform(X_test)\n",
        "model=Perceptron(max_iter=80,eta0=0.8,random_state=0)\n",
        "model.fit(X_train,y_train)\n",
        "y_pred=model.predict(X_test)\n",
        "print(y_pred)\n",
        "print(y_test)\n",
        "print(\"do chinh xac mo hinh chua scale\",accuracy_score(y_test,y_pred))\n",
        "model=Perceptron(max_iter=80,eta0=0.8,random_state=0)\n",
        "model.fit(X_train_std,y_train)\n",
        "y_pred=model.predict(X_test_std)\n",
        "print(y_pred)\n",
        "print(y_test)\n",
        "print(\"do chinh xac mo hinh:\",accuracy_score(y_test,y_pred))"
      ],
      "metadata": {
        "colab": {
          "base_uri": "https://localhost:8080/"
        },
        "id": "CYuH1UurdGjJ",
        "outputId": "4b23ba4b-a122-460f-bd61-35ffb742a229"
      },
      "execution_count": 10,
      "outputs": [
        {
          "output_type": "stream",
          "name": "stdout",
          "text": [
            "[0 1 1 1 0 0 0 0 1 0 0 0 0 0 0 1 1 0 1 0 1 0 0 1 0 0 0 1 1 1 1 0 1 0 1 1 0\n",
            " 0 0 0 1 1 0 0 0 0 1 0 0 1 1 1 0 1 0 1 1 1 0 1 1 0 1 0 0 1 1 1 1 1 0 1 1 1\n",
            " 1 0 1 0 1 1 1 0 0 0 1 0 1 0 0 0 0 0 0 0 1 0 0 1 0 0 0 0 0 0 1 1 0 0 1 1 0\n",
            " 0 0 1 0 1 0 0 1 0 0 0 1 1 1 1 0 1 0 0 1 1 0 1 0 1 1 1 0 0 0 1 0 0 0 0 1 1\n",
            " 0 1 1 1 0 1 1 1 1 0 1 0 0 0 1 0 1 1 1 0 0 0 0 1 0 1 1 1 1 1 0 0 0 0 0 0 1\n",
            " 0 1 0 1 0 1 0 1 1 1 0 1 0 1 1 0 0 0 1 1 1 0 0 1 1 0 1 0 0 0 0 0 0 1 1 1 0\n",
            " 1 0 0 0 0 0 0 1 1]\n",
            "742    0\n",
            "727    0\n",
            "160    0\n",
            "403    0\n",
            "528    0\n",
            "      ..\n",
            "277    0\n",
            "120    1\n",
            "538    0\n",
            "671    0\n",
            "760    0\n",
            "Name: Outcome, Length: 231, dtype: int64\n",
            "do chinh xac mo hinh chua scale 0.5887445887445888\n",
            "[0 1 1 1 0 1 1 0 1 0 0 0 0 0 0 1 0 1 0 1 0 1 0 0 1 0 1 0 1 1 1 1 0 1 1 0 1\n",
            " 1 1 0 0 1 1 0 1 1 1 0 0 1 0 1 1 0 0 1 1 1 0 1 0 1 1 0 0 1 0 1 1 1 0 1 1 1\n",
            " 0 0 1 1 0 0 1 0 0 1 1 0 1 1 1 0 0 1 0 1 0 1 0 0 0 0 1 1 0 0 0 1 1 1 1 1 1\n",
            " 1 1 0 1 1 1 0 0 0 1 1 1 1 0 0 0 0 0 1 0 1 1 0 0 1 1 1 0 1 0 0 1 0 0 1 1 0\n",
            " 1 1 0 0 1 0 1 1 0 1 0 1 1 1 1 1 1 0 0 0 1 1 1 1 0 1 1 0 1 1 0 1 0 0 1 0 1\n",
            " 1 1 1 0 1 1 1 1 0 1 0 1 1 1 1 1 0 1 1 0 0 1 0 0 0 1 0 1 0 0 0 1 1 1 0 1 1\n",
            " 0 0 0 0 0 1 1 0 0]\n",
            "742    0\n",
            "727    0\n",
            "160    0\n",
            "403    0\n",
            "528    0\n",
            "      ..\n",
            "277    0\n",
            "120    1\n",
            "538    0\n",
            "671    0\n",
            "760    0\n",
            "Name: Outcome, Length: 231, dtype: int64\n",
            "do chinh xac mo hinh: 0.6363636363636364\n"
          ]
        }
      ]
    }
  ]
}