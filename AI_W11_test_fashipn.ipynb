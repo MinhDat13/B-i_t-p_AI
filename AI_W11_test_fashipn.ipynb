{
  "nbformat": 4,
  "nbformat_minor": 0,
  "metadata": {
    "colab": {
      "provenance": [],
      "mount_file_id": "1UOkx3RdRHwnBaWMXjVBpup7Yx0_LHPhz",
      "authorship_tag": "ABX9TyN735pHcvA2zVrRrCeNQ/xW",
      "include_colab_link": true
    },
    "kernelspec": {
      "name": "python3",
      "display_name": "Python 3"
    },
    "language_info": {
      "name": "python"
    }
  },
  "cells": [
    {
      "cell_type": "markdown",
      "metadata": {
        "id": "view-in-github",
        "colab_type": "text"
      },
      "source": [
        "<a href=\"https://colab.research.google.com/github/MinhDat13/Bai_tap_AI/blob/main/AI_W11_test_fashipn.ipynb\" target=\"_parent\"><img src=\"https://colab.research.google.com/assets/colab-badge.svg\" alt=\"Open In Colab\"/></a>"
      ]
    },
    {
      "cell_type": "code",
      "execution_count": null,
      "metadata": {
        "id": "JsWg_UOrqxJ3"
      },
      "outputs": [],
      "source": [
        "import matplotlib.pyplot as plt\n",
        "import numpy as np\n",
        "from keras.utils import load_img, img_to_array\n",
        "from keras.models import load_model\n",
        "img=load_img('giay.jpg',grayscale=True,target_size=(28,28))\n",
        "plt.imshow(img)\n",
        "img=img_to_array(img)\n",
        "img=img.reshape(1,28*28)\n",
        "img=img.astype('float32')\n",
        "img=img/255\n",
        "model=load_model(\"/content/drive/MyDrive/Data_AI/fashion_w11.h5\")\n",
        "np.argmax(model.predict(img),axis=-1)\n"
      ]
    }
  ]
}