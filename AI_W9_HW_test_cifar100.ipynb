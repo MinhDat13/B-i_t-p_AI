{
  "nbformat": 4,
  "nbformat_minor": 0,
  "metadata": {
    "colab": {
      "provenance": [],
      "mount_file_id": "1dVIXiO3KJiGBiiwQMnGneAEmSrrfSD2t",
      "authorship_tag": "ABX9TyMx2GQSLwR6nkoFuxuyy4jE",
      "include_colab_link": true
    },
    "kernelspec": {
      "name": "python3",
      "display_name": "Python 3"
    },
    "language_info": {
      "name": "python"
    }
  },
  "cells": [
    {
      "cell_type": "markdown",
      "metadata": {
        "id": "view-in-github",
        "colab_type": "text"
      },
      "source": [
        "<a href=\"https://colab.research.google.com/github/MinhDat13/Bai_tap_AI/blob/main/AI_W9_HW_test_cifar100.ipynb\" target=\"_parent\"><img src=\"https://colab.research.google.com/assets/colab-badge.svg\" alt=\"Open In Colab\"/></a>"
      ]
    },
    {
      "cell_type": "code",
      "execution_count": null,
      "metadata": {
        "colab": {
          "base_uri": "https://localhost:8080/",
          "height": 465
        },
        "id": "pD52O0IpxTs6",
        "outputId": "180aac95-fa5d-445a-c1d0-275c4dde5f77"
      },
      "outputs": [
        {
          "output_type": "stream",
          "name": "stdout",
          "text": [
            "1/1 [==============================] - 0s 100ms/step\n"
          ]
        },
        {
          "output_type": "execute_result",
          "data": {
            "text/plain": [
              "array([39])"
            ]
          },
          "metadata": {},
          "execution_count": 7
        },
        {
          "output_type": "display_data",
          "data": {
            "text/plain": [
              "<Figure size 640x480 with 1 Axes>"
            ],
            "image/png": "[encoded data removed]"
          },
          "metadata": {}
        }
      ],
      "source": [
        "import matplotlib.pyplot as plt\n",
        "import numpy as np\n",
        "from keras.utils import load_img, img_to_array\n",
        "from keras.models import load_model\n",
        "img=load_img('xedap_test.jpg',target_size=(32,32,3))\n",
        "plt.imshow(img)\n",
        "img=img_to_array(img)\n",
        "img=img.reshape(1,32*32*3)\n",
        "img=img.astype('float32')\n",
        "img=img/255\n",
        "model=load_model('/content/drive/MyDrive/Data_AI/cifar100.h5')\n",
        "np.argmax(model.predict(img),axis=-1)"
      ]
    }
  ]
}